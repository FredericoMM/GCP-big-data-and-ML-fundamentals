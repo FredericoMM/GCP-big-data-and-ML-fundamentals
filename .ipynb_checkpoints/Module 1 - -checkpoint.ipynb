{
 "cells": [
  {
   "cell_type": "markdown",
   "metadata": {},
   "source": [
    "# What is GCP\n",
    "\n",
    "![](img/1.png)\n",
    "\n",
    "![](img/2.png)\n",
    "\n",
    "![](img/3.png)\n",
    "\n",
    "![](img/4.png)"
   ]
  },
  {
   "cell_type": "markdown",
   "metadata": {},
   "source": [
    "# GCP big data products\n",
    "\n",
    "![](img/5.png)\n",
    "\n",
    "แบ่งตาม function การใช้งาน\n",
    "\n",
    "![](img/6.png)\n",
    "\n",
    "ถ้าแบ่งตามเหตุผลที่คนจะย้ายมาใช้งาน Cloud\n",
    "\n",
    "![](img/7.png)\n"
   ]
  },
  {
   "cell_type": "code",
   "execution_count": null,
   "metadata": {
    "collapsed": true
   },
   "outputs": [],
   "source": []
  },
  {
   "cell_type": "markdown",
   "metadata": {},
   "source": [
    "# Usage scenarios"
   ]
  },
  {
   "cell_type": "markdown",
   "metadata": {},
   "source": [
    "# How to do the labs\n"
   ]
  }
 ],
 "metadata": {
  "kernelspec": {
   "display_name": "Python 3",
   "language": "python",
   "name": "python3"
  },
  "language_info": {
   "codemirror_mode": {
    "name": "ipython",
    "version": 3
   },
   "file_extension": ".py",
   "mimetype": "text/x-python",
   "name": "python",
   "nbconvert_exporter": "python",
   "pygments_lexer": "ipython3",
   "version": "3.6.3"
  }
 },
 "nbformat": 4,
 "nbformat_minor": 2
}
