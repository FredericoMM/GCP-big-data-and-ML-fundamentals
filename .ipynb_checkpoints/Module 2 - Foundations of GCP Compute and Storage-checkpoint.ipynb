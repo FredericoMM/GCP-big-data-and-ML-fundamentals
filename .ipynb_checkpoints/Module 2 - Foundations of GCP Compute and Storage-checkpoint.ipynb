{
 "cells": [
  {
   "cell_type": "markdown",
   "metadata": {},
   "source": [
    "# CPUs on demand\n",
    "\n",
    "### Words : \n",
    "- No-ops = No operations\n",
    "- fault-tolerant : ระบบที่คงทนต่อความเสียหาย มีอะไรเจ๊งสักตัว ระบบก็ยังทำงานต่อได้ (เช่น ระบบที่ทำ load balancing)\n",
    "- Preemtible VM or Preemptible Instances : เครื่องที่เหลือในคลาวด์มาขายในราคาถูก สามารถถูกชัตดาวน์ได้ทุกเมื่อ แต่หากถูกชัตดาวน์ก่อนครบสิบนาที ทางกูเกิลจะให้ใช้งานฟรี และก่อนชัตดาวน์จะมีสัญญาณให้เวลาเตรียมตัว 30 วินาที ทุกเครื่องไม่สามารถรันได้เกิน 24 ชั่วโมง จะถูกชัตดาวน์ทิ้งเสมอ\n",
    "\n",
    "CPUs (compute processing units) on the cloud are provided by a compute engine of vitual machines.\n",
    "\n",
    "Like any computer, and the cloud computer is a computer, you need **compute processing units**, CPUs. And the CPUs on the cloud are provided by a **compute engine** of virtual machines. \n",
    "\n",
    "And you need a place to **store your input data**, to **store your output data**, to **store your intermediate data**, things that are persistent, things that are temporary. And that *storage on GCP* is provided by **cloud storage**. \n",
    "\n",
    "And connecting the two, *connecting the virtual machines or compute engine instances with these storage units or cloud storage* is a **private network**. You think not to directly interact with this network but it's there and it is what allows you to have a global scale data and compute infrastructure. \n",
    "\n",
    "![](img/14.png)\n",
    "\n",
    "For the most part, when you work with GCP, you will not be working at the level at which we're going to be talking about in this chapter. *So we're not going to be working at the level of individual virtual machines. No, you're not going to be spinning up VMs in order to do a job, we'll be working with things that are much higher level than that.* \n",
    "\n",
    "But even if you need to work at this low level, in terms of infrastructure, the design goals of GCP remain the same. And the design goal is for working with cloud infrastructure to be as no-ops as possible. And no-ops here essentially means that we want to minimize a system administration overhead. And because we're talking about computing and storage, we want to basically also mention that we want this to be as flexible as possible. In such a way that you can change the type of virtual machine that you're running without paying any penalties, for example. So you're not reserving instances for long periods of time. In fact, we want to make it as flexible and easy for you to get your compute jobs done as possible. \n",
    "\n",
    "So when we talk about compute engine, the idea is in terms of flexibility. \n",
    "\n",
    "You can go ahead and get a **compute engine** that is say, N1 standard four and that's a very specific configuration of machines that you can have. *But we would like you to stop thinking about it in terms of this very specific physical infrastructure*, and instead **start thinking in terms of more abstract concepts. So for example you might say, I want a virtual machine that has 8 CPUs and 30 gig of RAM.** \n",
    "\n",
    "![](img/15.png)\n",
    "\n",
    "And it's the job of the Google cloud infrastructure to go ahead and fetch you a virtual machine that has 8 CPUs and 30 gigs of RAM. \n",
    "\n",
    "Regardless of the type of machine that you get, you will always get load balancing, advanced networking, monitoring, clustering, container support, etc. So there is no second class machine here. Every machine that you have, has all of these capabilities built in. At the same time we want to give you flexible compute. And you lose flexibility whenever you say that I have to go ahead and get a machine, and have to keep it running for months on end. \n",
    "\n",
    "Because face it, *if you're running a machine for months on end, you have essentially bought the machine.* And what we want is for you to **work with machines on the order of minutes**. However, there are always going to be workloads where you might find yourself having a machine and using it fully tilt for long periods of time. Rather than ask you to try to determine which of your workloads you are going to be running for long periods of time, **GCP gives you a discount after the fact**. \n",
    "\n",
    "So at the end of the month, if it turns out that you've used a machine for 60% of the month, you will automatically get a 15% discount. And this is something that happens on your bill after we've found that you've used it. So what this means is that you always get to retain your agility. \n",
    "\n",
    "**So, for example, if you have a workload that's currently running on 8 CPUs and you decide that you need to increase it to 12 CPUs, for a few hours, well, go ahead and do that, right? You can move your workload to a different machine when you need to and move it back to a smaller machine when the peak loads go away.**\n",
    "\n",
    "In addition to this whole idea of being able to change the machine type of stopped instances, you have another concept that's very, very, very useful, especially when it comes to jobs like Hadoop jobs. And this is the idea for **preemptible virtual machine**. \n",
    "\n",
    "The reason that GCP, one of the reasons that GCP can say, well, if you want an 8 CPU machine, 30 gig of RAM, we'll find it for you and we'll give to you, is because **some of those machines that are currently being used are what are called preemptible**. Whoever is using those machines has agreed that in return for a hefty 80% discount on the machine charge, they agree to give it up if someone comes along and is willing to pay full price for those machines. **So that's what a preemptible machine is**. \n",
    "\n",
    "> So a preemptible machine is a machine that you get a great discount on in return for your flexibility, in letting go of of it when you don't need it. \n",
    "\n",
    "![](img/16.png)\n",
    "\n",
    "**But why would you do that?**\n",
    "\n",
    "Why would have a machine that you're willing to give up? \n",
    "\n",
    "Well, if you're running a workload like Hadoop, which is *fault-tolerant*, if a machine goes away, well, whatever that machine was doing, those jobs get basically distributed among the other workers. *Then preemptible machines are a great strategy to reduce your overall cost.* \n",
    "\n",
    "For example, that you're creating a **data proc cluster**, a **data proc** is a **Hadoop cluster** on GCP, but we look at it in the next chapter. So you may say I'm going to create a data proc cluster, and in my data proc cluster, I'm going to have **10 standard VMs and 30 preemptible VMs**. So now your job is going to get done four times faster. And at the same time, **those extra 30 machines that you're using, are actually at 80% of the normal cost**. So not only are you getting it done faster, **you're also getting it done cheaper**. So preemptible machines are good thing to incorporate into your strategy. With the idea that even if you don't get a preemptible machines, those standard machines are enough for you to get the job done in a timely manner. So you don't want to bank on a preemptible machine, being available when you need it, but if it is available and you happen to get it, you automatically gotten a huge discount on the total cost of your job. "
   ]
  },
  {
   "cell_type": "markdown",
   "metadata": {},
   "source": [
    "# Lab : Start a Compute Engine instance\n",
    "\n",
    "![](img/17.png)\n",
    "\n",
    "### Start Compute Engine instance\n",
    "\n",
    "#### Overview\n",
    "In this lab you spin up a virtual machine, configure its security, and access it remotely.\n",
    "\n",
    "#### What you need\n",
    "To complete this lab, you need:\n",
    "- A project created on Google Cloud Platform\n",
    "\n",
    "#### What you learn\n",
    "In this lab, you:\n",
    "- Create a Compute Engine instance with the necessary Access and Security\n",
    "- SSH into the instance\n",
    "- Install the software package Git (for source code version control)\n",
    "\n",
    "Start the Codelab\n",
    "https://codelabs.developers.google.com/codelabs/cpb100-compute-engine/"
   ]
  },
  {
   "cell_type": "markdown",
   "metadata": {},
   "source": [
    "# A global filesystem\n",
    "\n"
   ]
  },
  {
   "cell_type": "markdown",
   "metadata": {},
   "source": [
    "# Lab : Interact with Cloud Storage"
   ]
  }
 ],
 "metadata": {
  "kernelspec": {
   "display_name": "Python 3",
   "language": "python",
   "name": "python3"
  },
  "language_info": {
   "codemirror_mode": {
    "name": "ipython",
    "version": 3
   },
   "file_extension": ".py",
   "mimetype": "text/x-python",
   "name": "python",
   "nbconvert_exporter": "python",
   "pygments_lexer": "ipython3",
   "version": "3.6.3"
  }
 },
 "nbformat": 4,
 "nbformat_minor": 2
}
